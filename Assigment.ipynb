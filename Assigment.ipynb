{
 "cells": [
  {
   "cell_type": "code",
   "execution_count": 1,
   "id": "ba296aa4-833d-4db6-8289-c26f89c1a43f",
   "metadata": {},
   "outputs": [],
   "source": [
    "import pandas as pd"
   ]
  },
  {
   "cell_type": "code",
   "execution_count": 3,
   "id": "9a3dd27c-97ed-4d15-bfae-932f7f985e5a",
   "metadata": {},
   "outputs": [],
   "source": [
    "file_path = r'C:\\Users\\Lenovo\\Downloads\\enhanced_product_usage_data.csv'"
   ]
  },
  {
   "cell_type": "code",
   "execution_count": 5,
   "id": "31f5048f-555a-468d-8a3b-14b452bb14a3",
   "metadata": {},
   "outputs": [],
   "source": [
    "df = pd.read_csv(file_path)"
   ]
  },
  {
   "cell_type": "code",
   "execution_count": 7,
   "id": "d27d8716-231c-4a8a-850d-d726f703b518",
   "metadata": {},
   "outputs": [
    {
     "name": "stdout",
     "output_type": "stream",
     "text": [
      "<class 'pandas.core.frame.DataFrame'>\n",
      "RangeIndex: 120000 entries, 0 to 119999\n",
      "Data columns (total 9 columns):\n",
      " #   Column               Non-Null Count   Dtype  \n",
      "---  ------               --------------   -----  \n",
      " 0   User ID              120000 non-null  int64  \n",
      " 1   Date                 120000 non-null  object \n",
      " 2   Action               120000 non-null  object \n",
      " 3   Feature              120000 non-null  object \n",
      " 4   Duration             120000 non-null  int64  \n",
      " 5   Device               120000 non-null  object \n",
      " 6   Country              120000 non-null  object \n",
      " 7   Subscription Status  120000 non-null  object \n",
      " 8   Revenue              120000 non-null  float64\n",
      "dtypes: float64(1), int64(2), object(6)\n",
      "memory usage: 8.2+ MB\n",
      "None\n",
      "              User ID                 Date       Action Feature  \\\n",
      "count   120000.000000               120000       120000  120000   \n",
      "unique            NaN               119888            3       5   \n",
      "top               NaN  2022-08-31 01:39:44  Transaction  Search   \n",
      "freq              NaN                    3        40026   24131   \n",
      "mean     60000.500000                  NaN          NaN     NaN   \n",
      "std      34641.160489                  NaN          NaN     NaN   \n",
      "min          1.000000                  NaN          NaN     NaN   \n",
      "25%      30000.750000                  NaN          NaN     NaN   \n",
      "50%      60000.500000                  NaN          NaN     NaN   \n",
      "75%      90000.250000                  NaN          NaN     NaN   \n",
      "max     120000.000000                  NaN          NaN     NaN   \n",
      "\n",
      "             Duration   Device Country Subscription Status        Revenue  \n",
      "count   120000.000000   120000  120000              120000  120000.000000  \n",
      "unique            NaN        2     243                   3            NaN  \n",
      "top               NaN  Android   Korea               Trial            NaN  \n",
      "freq              NaN    60013     961               40211            NaN  \n",
      "mean        30.534950      NaN     NaN                 NaN      50.335146  \n",
      "std         17.323765      NaN     NaN                 NaN      28.727731  \n",
      "min          1.000000      NaN     NaN                 NaN       0.500000  \n",
      "25%         16.000000      NaN     NaN                 NaN      25.390000  \n",
      "50%         31.000000      NaN     NaN                 NaN      50.340000  \n",
      "75%         46.000000      NaN     NaN                 NaN      75.280000  \n",
      "max         60.000000      NaN     NaN                 NaN     100.000000  \n",
      "User ID                0\n",
      "Date                   0\n",
      "Action                 0\n",
      "Feature                0\n",
      "Duration               0\n",
      "Device                 0\n",
      "Country                0\n",
      "Subscription Status    0\n",
      "Revenue                0\n",
      "dtype: int64\n",
      "   User ID                 Date         Action    Feature  Duration   Device  \\\n",
      "0        1  2023-10-07 05:56:45  Feature Usage    Profile         6  Android   \n",
      "1        2  2022-09-06 09:34:05  Feature Usage  Dashboard        49      iOS   \n",
      "2        3  2023-03-31 23:10:25    Transaction  Dashboard        29  Android   \n",
      "3        4  2022-09-09 16:51:21    Transaction  Dashboard         4      iOS   \n",
      "4        5  2023-09-24 15:29:59          Login   Settings        33      iOS   \n",
      "\n",
      "                     Country Subscription Status  Revenue  \n",
      "0  Bouvet Island (Bouvetoya)          Subscribed    83.57  \n",
      "1                 Bangladesh             Expired     2.65  \n",
      "2                  Hong Kong             Expired    68.87  \n",
      "3                 Uzbekistan             Expired    66.38  \n",
      "4      Sao Tome and Principe               Trial    44.10  \n"
     ]
    }
   ],
   "source": [
    "# Basic structure\n",
    "print(df.info())\n",
    "\n",
    "# Statistical summary\n",
    "print(df.describe(include='all'))\n",
    "\n",
    "# Missing values\n",
    "print(df.isnull().sum())\n",
    "\n",
    "# Preview data\n",
    "print(df.head())\n"
   ]
  },
  {
   "cell_type": "code",
   "execution_count": 27,
   "id": "8598a58d-cfd2-4d5f-a0c5-f11fb1380bc7",
   "metadata": {},
   "outputs": [],
   "source": [
    "# Step 3: Data Cleaning\n",
    "# Drop rows with missing values (if any)\n",
    "df = df.dropna()\n",
    "\n",
    "# Remove duplicate records\n",
    "df = df.drop_duplicates()\n",
    "\n",
    "# Convert 'Date' column to datetime format (if not already)\n",
    "df['Date'] = pd.to_datetime(df['Date'])\n",
    "\n",
    "# Keep only the date part (drop time)\n",
    "df['Date'] = df['Date'].dt.date\n",
    "\n",
    "\n"
   ]
  },
  {
   "cell_type": "code",
   "execution_count": 29,
   "id": "e1519068-3cd7-4ddc-8345-192b34c6bc2a",
   "metadata": {},
   "outputs": [
    {
     "name": "stdout",
     "output_type": "stream",
     "text": [
      "\n",
      "✅ Processed data exported to: processed_product_usage_data.csv\n"
     ]
    }
   ],
   "source": [
    "# Save to current working directory\n",
    "output_path = \"processed_product_usage_data.csv\"\n",
    "df.to_csv(output_path, index=False)\n",
    "\n",
    "print(f\"\\n✅ Processed data exported to: {output_path}\")\n"
   ]
  },
  {
   "cell_type": "code",
   "execution_count": 33,
   "id": "8ca4621a-52ad-4e98-8301-9ac5518b6982",
   "metadata": {},
   "outputs": [
    {
     "name": "stdout",
     "output_type": "stream",
     "text": [
      "\n",
      "✅ Processed data exported to: C:\\Users\\Lenovo\\Documents\\processed_product_usage_data.csv\n"
     ]
    }
   ],
   "source": [
    "import os\n",
    "\n",
    "# Save to Documents (usually exists)\n",
    "documents_path = os.path.join(os.path.expanduser(\"~\"), \"Documents\")\n",
    "output_path = os.path.join(documents_path, \"processed_product_usage_data.csv\")\n",
    "df.to_csv(output_path, index=False)\n",
    "\n",
    "print(f\"\\n✅ Processed data exported to: {output_path}\")\n"
   ]
  },
  {
   "cell_type": "code",
   "execution_count": null,
   "id": "c6b01919-b055-4f5f-b8d4-842c4c74fd42",
   "metadata": {},
   "outputs": [],
   "source": []
  }
 ],
 "metadata": {
  "kernelspec": {
   "display_name": "Python 3 (ipykernel)",
   "language": "python",
   "name": "python3"
  },
  "language_info": {
   "codemirror_mode": {
    "name": "ipython",
    "version": 3
   },
   "file_extension": ".py",
   "mimetype": "text/x-python",
   "name": "python",
   "nbconvert_exporter": "python",
   "pygments_lexer": "ipython3",
   "version": "3.12.4"
  }
 },
 "nbformat": 4,
 "nbformat_minor": 5
}
